{
 "cells": [
  {
   "cell_type": "code",
   "execution_count": 59,
   "metadata": {},
   "outputs": [
    {
     "name": "stdout",
     "output_type": "stream",
     "text": [
      "{'File36': [(286, 154), (280, 216), (261, 226), (261, 144), (273, 92), (298, 236), None, (267, 648), (261, 360), None, None, (286, 360), (273, 534), None, (273, 298), (211, 421), None, (280, 216)], 'File15(1)': [(280, 164), (292, 246), (248, 246), (236, 236), None, (329, 236), None, (273, 483), None, None, None, None, None, None, None, (224, 462), None, (292, 226)]}\n"
     ]
    }
   ],
   "source": [
    "import pickle\n",
    "with open('/home/chirag/open_pose/filename.pickle', 'rb') as handle:\n",
    "    b = pickle.load(handle)\n",
    "print(b)\n",
    "\n",
    "comp=b[\"File36\"]\n",
    "human = b[\"File15(1)\"]\n",
    "\n",
    "fixed_ix=17\n",
    "threshold = 40000000"
   ]
  },
  {
   "cell_type": "code",
   "execution_count": 63,
   "metadata": {},
   "outputs": [],
   "source": [
    "def comparison (comp, human, fixed_ix, threshold):\n",
    "    num_cols = len(comp)\n",
    "    dif_x = comp[fixed_ix][0] - human[fixed_ix][0]\n",
    "    dif_y = comp[fixed_ix][1] - human[fixed_ix][1]\n",
    "    h=[]\n",
    "    for i in range(num_cols):\n",
    "        if human[i] != None and comp[i] != None:\n",
    "            a=human[i][0] + dif_x\n",
    "            b=human[i][1] + dif_y\n",
    "            h.append([a,b])\n",
    "        else:\n",
    "            h.append([None,None])\n",
    "    \n",
    "    dev_x = 0\n",
    "    dev_y = 0\n",
    "    wrong_points=[]\n",
    "    for i in range(num_cols):\n",
    "        if human[i] != None and comp[i]!= None:\n",
    "            dev_x += (comp[i][0] - h[i][0]) * (comp[i][0] - h[i][0])\n",
    "            dev_y += (comp[i][1] - h[i][1]) * (comp[i][1] - h[i][1])\n",
    "            dis= (dev_x**2 + dev_y**2)**1/2\n",
    "            print(dis)\n",
    "            if dis >threshold:\n",
    "                wrong_points.append(i)\n",
    "                \n",
    "            \n",
    "    p=(len(wrong_points)/18)*100\n",
    "    return wrong_points,100-p"
   ]
  },
  {
   "cell_type": "code",
   "execution_count": 64,
   "metadata": {},
   "outputs": [
    {
     "name": "stdout",
     "output_type": "stream",
     "text": [
      "52488.0\n",
      "132488.0\n",
      "575300.5\n",
      "28779650.0\n",
      "30409008.5\n",
      "723748913.0\n",
      "760682378.0\n",
      "760682378.0\n"
     ]
    },
    {
     "data": {
      "text/plain": [
       "([7, 15, 17], 83.33333333333334)"
      ]
     },
     "execution_count": 64,
     "metadata": {},
     "output_type": "execute_result"
    }
   ],
   "source": [
    "comparison (comp, human, fixed_ix, threshold)"
   ]
  },
  {
   "cell_type": "code",
   "execution_count": 62,
   "metadata": {},
   "outputs": [
    {
     "data": {
      "text/plain": [
       "True"
      ]
     },
     "execution_count": 62,
     "metadata": {},
     "output_type": "execute_result"
    }
   ],
   "source": [
    "human[4]==None\n"
   ]
  },
  {
   "cell_type": "code",
   "execution_count": null,
   "metadata": {},
   "outputs": [],
   "source": []
  }
 ],
 "metadata": {
  "kernelspec": {
   "display_name": "Python 3",
   "language": "python",
   "name": "python3"
  },
  "language_info": {
   "codemirror_mode": {
    "name": "ipython",
    "version": 3
   },
   "file_extension": ".py",
   "mimetype": "text/x-python",
   "name": "python",
   "nbconvert_exporter": "python",
   "pygments_lexer": "ipython3",
   "version": "3.7.1"
  }
 },
 "nbformat": 4,
 "nbformat_minor": 2
}
